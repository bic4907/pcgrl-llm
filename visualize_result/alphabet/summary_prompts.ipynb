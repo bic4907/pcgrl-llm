{
 "cells": [
  {
   "metadata": {
    "ExecuteTime": {
     "end_time": "2024-10-30T15:57:09.186617Z",
     "start_time": "2024-10-30T15:57:09.181453Z"
    }
   },
   "cell_type": "code",
   "source": [
    "import json\n",
    "import os\n",
    "from os.path import join\n",
    "from glob import glob\n",
    "import markdown\n",
    "import base64\n",
    "\n",
    "from tensorboard.backend.event_processing.tag_types import IMAGES\n",
    "\n",
    "from pcgrllm.utils.storage import INFERENCE_DIR\n"
   ],
   "id": "86da4c0731addffd",
   "outputs": [],
   "execution_count": 13
  },
  {
   "metadata": {
    "ExecuteTime": {
     "end_time": "2024-10-30T15:57:09.216903Z",
     "start_time": "2024-10-30T15:57:09.214018Z"
    }
   },
   "cell_type": "code",
   "source": [
    "SOURCE_DIR = 'src'\n",
    "REWARD_FUNCTION_DIR = 'reward_functions'\n",
    "FEEDBACK_DIR = 'feedback'\n",
    "INFERENCE_DIR = 'inference'\n",
    "IMAGES_DIR = 'images'\n",
    "NUMPY_DIR = 'numpy'\n",
    "REWARD_FUNCTION_SUBDIR_FORMAT = 'reward_outer_{iteration}_inner_1'\n",
    "TRIAL_FILENAME_FORMAT = 'reward_outer_{iteration}_inner_1_trial_{trial}.json'\n",
    "FEEDBACK_FILENAME_FORMAT = 'feedback_log_iter_{iteration}.json'\n",
    "ITERATION_DIR_FORMAT = 'iteration_{iteration}'"
   ],
   "id": "12489361ec90d6d7",
   "outputs": [],
   "execution_count": 14
  },
  {
   "metadata": {
    "ExecuteTime": {
     "end_time": "2024-10-30T15:57:09.226525Z",
     "start_time": "2024-10-30T15:57:09.222666Z"
    }
   },
   "cell_type": "code",
   "source": [
    "exp_lists = glob(join(SOURCE_DIR, '*'))\n",
    "exp_lists"
   ],
   "id": "cd64529fec2f2b5b",
   "outputs": [
    {
     "data": {
      "text/plain": [
       "['src/pe-cotsc_it-5_fit-vit_exp-def_chr-N_s-0',\n",
       " 'src/pe-cot_it-5_fit-vit_exp-def_chr-C_s-1',\n",
       " 'src/pe-cot_it-5_fit-vit_exp-def_chr-F_s-1',\n",
       " 'src/pe-cot_it-5_fit-vit_exp-def_chr-D_s-1',\n",
       " 'src/pe-io_it-1_fit-vit_exp-def_chr-F_s-0',\n",
       " 'src/pe-tot_it-6_fit-vit_exp-def_chr-N_s-0',\n",
       " 'src/pe-tot_it-6_fit-vit_exp-def_chr-M_s-0',\n",
       " 'src/pe-io_it-1_fit-vit_exp-def_chr-D_s-0',\n",
       " 'src/pe-cot_it-5_fit-vit_exp-def_chr-N_s-2',\n",
       " 'src/pe-io_it-1_fit-vit_exp-def_chr-A_s-0',\n",
       " 'src/pe-cot_it-5_fit-vit_exp-def_chr-M_s-2',\n",
       " 'src/pe-io_it-1_fit-vit_exp-def_chr-C_s-0',\n",
       " 'src/pe-cot_it-5_fit-vit_exp-def_chr-MakeXlevel95_s-4',\n",
       " 'src/pe-tot_it-6_fit-vit_exp-def_chr-F_s-0',\n",
       " 'src/pe-io_it-1_fit-vit_exp-def_chr-N_s-0',\n",
       " 'src/pe-tot_it-6_fit-vit_exp-def_chr-D_s-0',\n",
       " 'src/pe-io_it-1_fit-vit_exp-def_chr-M_s-0',\n",
       " 'src/pe-cot_it-5_fit-vit_exp-def_chr-C_s-2',\n",
       " 'src/pe-cot_it-5_fit-vit_exp-def_chr-F_s-2',\n",
       " 'src/pe-cot_it-5_fit-vit_exp-def_chr-D_s-2',\n",
       " 'src/pe-tot_it-6_fit-vit_exp-def_chr-C_s-0',\n",
       " 'src/pe-cot_it-5_fit-vit_exp-def_chr-N_s-1',\n",
       " 'src/pe-cot_it-5_fit-vit_exp-def_chr-aXlevel20_s-0',\n",
       " 'src/pe-cot_it-5_fit-vit_exp-def_chr-M_s-1']"
      ]
     },
     "execution_count": 15,
     "metadata": {},
     "output_type": "execute_result"
    }
   ],
   "execution_count": 15
  },
  {
   "metadata": {
    "ExecuteTime": {
     "end_time": "2024-10-30T15:57:09.242526Z",
     "start_time": "2024-10-30T15:57:09.240154Z"
    }
   },
   "cell_type": "code",
   "source": [
    "def _get_trial_number(filename):\n",
    "    import re\n",
    "    match = re.search(r'trial_(\\d+)\\.json', filename)\n",
    "\n",
    "    if match:\n",
    "        trial_number = int(match.group(1))\n",
    "        return trial_number\n",
    "    else:\n",
    "        raise ValueError(f'Could not extract trial number from {filename}')"
   ],
   "id": "1f8d71b7ad2ad6ce",
   "outputs": [],
   "execution_count": 16
  },
  {
   "metadata": {
    "ExecuteTime": {
     "end_time": "2024-10-30T15:57:09.993778Z",
     "start_time": "2024-10-30T15:57:09.247716Z"
    }
   },
   "cell_type": "code",
   "source": [
    "import os\n",
    "import json\n",
    "import base64\n",
    "import re\n",
    "from glob import glob\n",
    "from os.path import join\n",
    "import markdown\n",
    "\n",
    "def _get_trial_number(filename):\n",
    "    \"\"\"Extracts trial number using regex.\"\"\"\n",
    "    import re\n",
    "    match = re.search(r'trial_(\\d+)\\.json', filename)\n",
    "    \n",
    "    if match is None:\n",
    "        raise ValueError(f'Could not extract trial number from {filename}')\n",
    "    return int(match.group(1)) if match else None\n",
    "\n",
    "def generate_html_style():\n",
    "    \"\"\"Returns CSS styles for the HTML.\"\"\"\n",
    "    return '''\n",
    "    <style>\n",
    "        @import url('https://fonts.googleapis.com/css2?family=Roboto:wght@400;700&display=swap');\n",
    "        body {\n",
    "            font-family: 'Roboto', sans-serif;\n",
    "            background-color: #f7f8fa;\n",
    "            margin: 0;\n",
    "            padding: 20px;\n",
    "            color: #2c3e50;\n",
    "        }\n",
    "        .container {\n",
    "            margin-bottom: 30px;\n",
    "            padding: 20px;\n",
    "            background-color: #ffffff;\n",
    "            border-radius: 12px;\n",
    "            box-shadow: 0 4px 12px rgba(0, 0, 0, 0.1);\n",
    "        }\n",
    "        h1, h2 {\n",
    "            color: #34495e;\n",
    "            margin-bottom: 15px;\n",
    "        }\n",
    "        h3 {\n",
    "            color: #2c3e50;\n",
    "            margin-bottom: 10px;\n",
    "        }\n",
    "        .message-box {\n",
    "            padding: 15px;\n",
    "            border-radius: 10px;\n",
    "            margin: 10px 0;\n",
    "            box-shadow: 0 2px 8px rgba(0, 0, 0, 0.1);\n",
    "            white-space: pre-wrap;\n",
    "            word-wrap: break-word;\n",
    "        }\n",
    "        .message-container {\n",
    "            margin-bottom: 20px;\n",
    "        }\n",
    "        .message.user .message-box {\n",
    "            background-color: #dce8f6;  /* Soft Blue */\n",
    "            color: #1c2833;\n",
    "            align-self: flex-start;\n",
    "        }\n",
    "        .message.assistant .message-box {\n",
    "            background-color: #f4e1d2;  /* Soft Peach */\n",
    "            color: #1c2833;\n",
    "            align-self: flex-end;\n",
    "        }\n",
    "        img {\n",
    "            max-width: 100%;\n",
    "            height: auto;\n",
    "            margin-top: 10px;\n",
    "            border-radius: 8px;\n",
    "            box-shadow: 0 2px 4px rgba(0, 0, 0, 0.1);\n",
    "        }\n",
    "    </style>\n",
    "    '''\n",
    "\n",
    "for exp_list in exp_lists:\n",
    "    exp_name = exp_list.split('/')[-1]\n",
    "    title = f\"Experiment Results - {exp_name}\"\n",
    "    outputs = [f'<!DOCTYPE html><html lang=\"en\"><head><meta charset=\"UTF-8\"><title>{title}</title>{generate_html_style()}</head><body>']\n",
    "    outputs.append(f'<h1>{exp_list}</h1>')\n",
    "\n",
    "    exps = glob(join(exp_list, 'iteration_*'))\n",
    "    exps = sorted(exps, key=lambda x: int(x.split('_')[-1]))\n",
    "\n",
    "    iteration_nums = sorted([int(exp.split('_')[-1]) for exp in exps])\n",
    "\n",
    "    for iter_num in iteration_nums:\n",
    "        outputs.append(f'<div class=\"container\"><h2>Iteration {iter_num}</h2>')\n",
    "\n",
    "        reward_dir = join(exp_list, REWARD_FUNCTION_DIR, REWARD_FUNCTION_SUBDIR_FORMAT.format(iteration=iter_num))\n",
    "        reward_trials = glob(join(reward_dir, 'reward_*.json'))\n",
    "        reward_trials = [f for f in reward_trials if not re.search(r'branch', f)]\n",
    "\n",
    "\n",
    "        trial_nums = sorted(list(map(_get_trial_number, reward_trials)))\n",
    "        \n",
    "        for trial_num in trial_nums:\n",
    "            trial_json_path = join(reward_dir, TRIAL_FILENAME_FORMAT.format(iteration=iter_num, trial=trial_num))\n",
    "            trial_file = json.load(open(trial_json_path))\n",
    "\n",
    "            outputs.append(f'<div class=\"message-container\"><h3>Trial {trial_num}</h3>')\n",
    "            for req_content in trial_file['request']:\n",
    "                markdown_content = markdown.markdown(req_content[\"content\"], extensions=['extra'])\n",
    "                outputs.append(f'''\n",
    "                <div class=\"message user\">\n",
    "                    <div class=\"message-box\">{markdown_content}</div>\n",
    "                </div>\n",
    "                ''')\n",
    "\n",
    "            res_content = markdown.markdown(trial_file['response'], extensions=['extra'])\n",
    "            outputs.append(f'''\n",
    "            <div class=\"message assistant\">\n",
    "                <div class=\"message-box\">{res_content}</div>\n",
    "            </div>\n",
    "            </div>  <!-- Close message-container -->\n",
    "            ''')\n",
    "\n",
    "        outputs.append('<div class=\"message-container\"><h3>Result numpy/image files</h3>')\n",
    "\n",
    "        images = glob(join(exp_list, ITERATION_DIR_FORMAT.format(iteration=iter_num), INFERENCE_DIR, IMAGES_DIR, '*.png'))\n",
    "        for image in images:\n",
    "            with open(image, 'rb') as img_file:\n",
    "                encoded_string = base64.b64encode(img_file.read()).decode('utf-8')\n",
    "            img_tag = f'<img src=\"data:image/png;base64,{encoded_string}\" alt=\"{os.path.basename(image)}\" />'\n",
    "            outputs.append(img_tag)\n",
    "\n",
    "        feedback_dir = join(exp_list, ITERATION_DIR_FORMAT.format(iteration=iter_num), FEEDBACK_DIR)\n",
    "        feedback_json = glob(join(feedback_dir, FEEDBACK_FILENAME_FORMAT.format(iteration=iter_num)))\n",
    "\n",
    "        if feedback_json:\n",
    "            feedback_file = json.load(open(feedback_json[0]))['chats'][0]\n",
    "            user_message = markdown.markdown(feedback_file[\"user_message\"], extensions=['extra'])\n",
    "            assistant_message = markdown.markdown(feedback_file[\"assistant_message\"], extensions=['extra'])\n",
    "\n",
    "            outputs.append(f'''\n",
    "            <div class=\"message user\">\n",
    "                <div class=\"message-box\">{user_message}</div>\n",
    "            </div>\n",
    "            <div class=\"message assistant\">\n",
    "                <div class=\"message-box\">{assistant_message}</div>\n",
    "            </div>\n",
    "            </div>  <!-- Close message-container -->\n",
    "            ''')\n",
    "\n",
    "        outputs.append('</div>  <!-- Close container -->')\n",
    "\n",
    "    outputs.append('</body></html>')  # Close HTML document\n",
    "\n",
    "    output = '\\n'.join(outputs)\n",
    "\n",
    "    os.makedirs('dest', exist_ok=True)\n",
    "    with open(f'dest/{exp_name}.html', 'w') as f:\n",
    "        f.write(output)\n"
   ],
   "id": "bd9458c05573682d",
   "outputs": [],
   "execution_count": 17
  },
  {
   "metadata": {
    "ExecuteTime": {
     "end_time": "2024-10-30T15:57:10.001585Z",
     "start_time": "2024-10-30T15:57:09.999391Z"
    }
   },
   "cell_type": "code",
   "source": "reward_trials = [f for f in reward_trials if not re.search(r'branch', f)]\n",
   "id": "111b0f8509facfd",
   "outputs": [],
   "execution_count": 18
  },
  {
   "metadata": {
    "ExecuteTime": {
     "end_time": "2024-10-30T15:57:10.010493Z",
     "start_time": "2024-10-30T15:57:10.009062Z"
    }
   },
   "cell_type": "code",
   "source": "",
   "id": "f319ef2881ce666c",
   "outputs": [],
   "execution_count": null
  },
  {
   "metadata": {
    "ExecuteTime": {
     "end_time": "2024-10-30T15:57:10.019697Z",
     "start_time": "2024-10-30T15:57:10.018234Z"
    }
   },
   "cell_type": "code",
   "source": "",
   "id": "5524af94c54b32cb",
   "outputs": [],
   "execution_count": null
  },
  {
   "metadata": {
    "ExecuteTime": {
     "end_time": "2024-10-30T15:57:10.035130Z",
     "start_time": "2024-10-30T15:57:10.033921Z"
    }
   },
   "cell_type": "code",
   "source": "",
   "id": "95bde020cf52337a",
   "outputs": [],
   "execution_count": null
  },
  {
   "metadata": {
    "ExecuteTime": {
     "end_time": "2024-10-30T15:57:10.047774Z",
     "start_time": "2024-10-30T15:57:10.046484Z"
    }
   },
   "cell_type": "code",
   "source": "",
   "id": "d67625403c5ee84a",
   "outputs": [],
   "execution_count": null
  },
  {
   "metadata": {
    "ExecuteTime": {
     "end_time": "2024-10-30T15:57:10.061179Z",
     "start_time": "2024-10-30T15:57:10.059885Z"
    }
   },
   "cell_type": "code",
   "source": "",
   "id": "a4661d230a0fdee4",
   "outputs": [],
   "execution_count": null
  },
  {
   "metadata": {
    "ExecuteTime": {
     "end_time": "2024-10-30T15:57:10.067382Z",
     "start_time": "2024-10-30T15:57:10.066275Z"
    }
   },
   "cell_type": "code",
   "source": "",
   "id": "13fe35d19dd82a03",
   "outputs": [],
   "execution_count": null
  },
  {
   "metadata": {
    "ExecuteTime": {
     "end_time": "2024-10-30T15:57:10.078121Z",
     "start_time": "2024-10-30T15:57:10.076915Z"
    }
   },
   "cell_type": "code",
   "source": "",
   "id": "2a355fcf6a2bc781",
   "outputs": [],
   "execution_count": null
  },
  {
   "metadata": {
    "ExecuteTime": {
     "end_time": "2024-10-30T15:57:10.088634Z",
     "start_time": "2024-10-30T15:57:10.087386Z"
    }
   },
   "cell_type": "code",
   "source": "",
   "id": "59541f1dcadbddfe",
   "outputs": [],
   "execution_count": null
  }
 ],
 "metadata": {
  "kernelspec": {
   "display_name": "Python 3",
   "language": "python",
   "name": "python3"
  },
  "language_info": {
   "codemirror_mode": {
    "name": "ipython",
    "version": 2
   },
   "file_extension": ".py",
   "mimetype": "text/x-python",
   "name": "python",
   "nbconvert_exporter": "python",
   "pygments_lexer": "ipython2",
   "version": "2.7.6"
  }
 },
 "nbformat": 4,
 "nbformat_minor": 5
}
