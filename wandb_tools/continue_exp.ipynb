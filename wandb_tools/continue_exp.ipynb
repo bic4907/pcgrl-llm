{
 "cells": [
  {
   "metadata": {
    "ExecuteTime": {
     "end_time": "2025-01-08T09:30:39.171980Z",
     "start_time": "2025-01-08T09:30:38.731973Z"
    }
   },
   "cell_type": "code",
   "source": [
    "import numpy as np\n",
    "import wandb\n",
    "import pandas as pd\n",
    "from tqdm import tqdm"
   ],
   "id": "d9f14382f5b686e0",
   "outputs": [],
   "execution_count": 1
  },
  {
   "metadata": {
    "ExecuteTime": {
     "end_time": "2025-01-08T09:30:39.185058Z",
     "start_time": "2025-01-08T09:30:39.178236Z"
    }
   },
   "cell_type": "code",
   "source": "api = wandb.Api(timeout=600)",
   "id": "e19d07b9b41e8296",
   "outputs": [],
   "execution_count": 2
  },
  {
   "metadata": {
    "ExecuteTime": {
     "end_time": "2025-01-08T09:30:40.653351Z",
     "start_time": "2025-01-08T09:30:39.215714Z"
    }
   },
   "cell_type": "code",
   "source": [
    "runs = api.runs(\"inchangbaek4907/scenario-aux\")\n",
    "len(runs)"
   ],
   "id": "b8f538313e8e36b",
   "outputs": [
    {
     "data": {
      "text/plain": [
       "55"
      ]
     },
     "execution_count": 3,
     "metadata": {},
     "output_type": "execute_result"
    }
   ],
   "execution_count": 3
  },
  {
   "metadata": {
    "ExecuteTime": {
     "end_time": "2025-01-08T09:30:41.042769Z",
     "start_time": "2025-01-08T09:30:40.673114Z"
    }
   },
   "cell_type": "code",
   "source": [
    "runs = list(runs)\n",
    "runs[:5]"
   ],
   "id": "a2be1e037e99e6de",
   "outputs": [
    {
     "data": {
      "text/plain": [
       "[<Run inchangbaek4907/scenario-aux/pe-got_it-6_fit-hr_exp-aux_t-sce_aux-b1w0_chr-1_1_s-1 (finished)>,\n",
       " <Run inchangbaek4907/scenario-aux/pe-got_it-6_fit-hr_exp-aux_t-sce_aux-b1w0_chr-2_1_s-1 (finished)>,\n",
       " <Run inchangbaek4907/scenario-aux/pe-got_it-6_fit-hr_exp-aux_t-sce_aux-b1w0_chr-1_1_s-3 (finished)>,\n",
       " <Run inchangbaek4907/scenario-aux/pe-got_it-6_fit-hr_exp-aux_t-sce_aux-b1w0_chr-2_1_s-6 (finished)>,\n",
       " <Run inchangbaek4907/scenario-aux/pe-got_it-6_fit-hr_exp-aux_t-sce_aux-b1w0_chr-1_1_s-6 (finished)>]"
      ]
     },
     "execution_count": 4,
     "metadata": {},
     "output_type": "execute_result"
    }
   ],
   "execution_count": 4
  },
  {
   "metadata": {
    "ExecuteTime": {
     "end_time": "2025-01-08T09:30:41.113710Z",
     "start_time": "2025-01-08T09:30:41.110931Z"
    }
   },
   "cell_type": "code",
   "source": [
    "\n",
    "class RunInfo:\n",
    "    config: dict\n",
    "    name: str\n",
    "    run_object: wandb.apis.public.Run\n",
    "    \n",
    "    def __init__(self, config, name, run_object):\n",
    "        self.config = config\n",
    "        self.name = name\n",
    "        self.run_object = run_object\n",
    "\n",
    "    def __str__(self):\n",
    "        showing_config = dict()\n",
    "        showing_keys = ['gpt_model']\n",
    "        \n",
    "        for key in showing_keys:\n",
    "            if key in self.config:\n",
    "                showing_config[key] = self.config[key]\n",
    "        \n",
    "        return f\"RunInfo(\\n\\tname={self.name},\\n\\tconfig={showing_config}\\n)\""
   ],
   "id": "59e1d1a01fc2cff3",
   "outputs": [],
   "execution_count": 5
  },
  {
   "metadata": {
    "ExecuteTime": {
     "end_time": "2025-01-08T09:30:41.152963Z",
     "start_time": "2025-01-08T09:30:41.128485Z"
    }
   },
   "cell_type": "code",
   "source": [
    "run_infos = list()\n",
    "\n",
    "for run in tqdm(runs):\n",
    "    if run.state == 'finished' and run.summary['Evaluation/llm_iteration'] < 6:\n",
    "        run_infos.append(RunInfo(run.config, run.name, run))\n",
    "\n",
    "len(run_infos)"
   ],
   "id": "2a1641a8d4bce8b4",
   "outputs": [
    {
     "name": "stderr",
     "output_type": "stream",
     "text": [
      "100%|██████████| 55/55 [00:00<00:00, 20801.33it/s]\n"
     ]
    },
    {
     "data": {
      "text/plain": [
       "5"
      ]
     },
     "execution_count": 6,
     "metadata": {},
     "output_type": "execute_result"
    }
   ],
   "execution_count": 6
  },
  {
   "metadata": {
    "ExecuteTime": {
     "end_time": "2025-01-08T09:30:41.291269Z",
     "start_time": "2025-01-08T09:30:41.271898Z"
    }
   },
   "cell_type": "code",
   "source": [
    "configs = list()\n",
    "for run_info in tqdm(run_infos[:]):\n",
    "    configs.append(run_info.config)\n",
    "    \n",
    "df = pd.DataFrame(configs)\n",
    "df"
   ],
   "id": "43f6bf9e7b63f368",
   "outputs": [
    {
     "name": "stderr",
     "output_type": "stream",
     "text": [
      "100%|██████████| 5/5 [00:00<00:00, 67650.06it/s]\n"
     ]
    },
    {
     "data": {
      "text/plain": [
       "   DEBUG activation bypass_feedback_path  NUM_MINIBATCHES  total_iterations  \\\n",
       "0   True       relu                 None                4                 6   \n",
       "1   True       relu                 None                4                 6   \n",
       "2   True       relu                 None                4                 6   \n",
       "3   True       relu                 None                4                 6   \n",
       "4   True       relu                 None                4                 6   \n",
       "\n",
       "   render_freq  max_board_scans  eval_randomize_map_shape  ANNEAL_LR  \\\n",
       "0           40                3                     False      False   \n",
       "1           40                3                     False      False   \n",
       "2           40                3                     False      False   \n",
       "3           40                3                     False      False   \n",
       "4           40                3                     False      False   \n",
       "\n",
       "   n_codegen_trials  ... n_samples  NUM_UPDATES  \\\n",
       "0                 3  ...        30         None   \n",
       "1                 3  ...        30         None   \n",
       "2                 3  ...        30         None   \n",
       "3                 3  ...        30         None   \n",
       "4                 3  ...        30         None   \n",
       "\n",
       "                                             exp_dir  seed  VF_COEF  \\\n",
       "0  saves/pe-got_it-6_fit-hr_exp-aux_t-sce_aux-b1w...     1      0.5   \n",
       "1  saves/pe-got_it-6_fit-hr_exp-aux_t-sce_aux-b1w...     2      0.5   \n",
       "2  saves/pe-got_it-6_fit-hr_exp-aux_t-sce_aux-b0w...     4      0.5   \n",
       "3  saves/pe-got_it-6_fit-hr_exp-aux_t-sce_aux-b1w...     6      0.5   \n",
       "4  saves/pe-got_it-6_fit-hr_exp-aux_t-sce_aux-b2w...     6      0.5   \n",
       "\n",
       "   randomize_map_shape  n_eval_envs n_gpus  n_agents  hidden_dims  \n",
       "0                False            1      1         1    [64, 256]  \n",
       "1                False            1      1         1    [64, 256]  \n",
       "2                False            1      1         1    [64, 256]  \n",
       "3                False            1      1         1    [64, 256]  \n",
       "4                False            1      1         1    [64, 256]  \n",
       "\n",
       "[5 rows x 95 columns]"
      ],
      "text/html": [
       "<div>\n",
       "<style scoped>\n",
       "    .dataframe tbody tr th:only-of-type {\n",
       "        vertical-align: middle;\n",
       "    }\n",
       "\n",
       "    .dataframe tbody tr th {\n",
       "        vertical-align: top;\n",
       "    }\n",
       "\n",
       "    .dataframe thead th {\n",
       "        text-align: right;\n",
       "    }\n",
       "</style>\n",
       "<table border=\"1\" class=\"dataframe\">\n",
       "  <thead>\n",
       "    <tr style=\"text-align: right;\">\n",
       "      <th></th>\n",
       "      <th>DEBUG</th>\n",
       "      <th>activation</th>\n",
       "      <th>bypass_feedback_path</th>\n",
       "      <th>NUM_MINIBATCHES</th>\n",
       "      <th>total_iterations</th>\n",
       "      <th>render_freq</th>\n",
       "      <th>max_board_scans</th>\n",
       "      <th>eval_randomize_map_shape</th>\n",
       "      <th>ANNEAL_LR</th>\n",
       "      <th>n_codegen_trials</th>\n",
       "      <th>...</th>\n",
       "      <th>n_samples</th>\n",
       "      <th>NUM_UPDATES</th>\n",
       "      <th>exp_dir</th>\n",
       "      <th>seed</th>\n",
       "      <th>VF_COEF</th>\n",
       "      <th>randomize_map_shape</th>\n",
       "      <th>n_eval_envs</th>\n",
       "      <th>n_gpus</th>\n",
       "      <th>n_agents</th>\n",
       "      <th>hidden_dims</th>\n",
       "    </tr>\n",
       "  </thead>\n",
       "  <tbody>\n",
       "    <tr>\n",
       "      <th>0</th>\n",
       "      <td>True</td>\n",
       "      <td>relu</td>\n",
       "      <td>None</td>\n",
       "      <td>4</td>\n",
       "      <td>6</td>\n",
       "      <td>40</td>\n",
       "      <td>3</td>\n",
       "      <td>False</td>\n",
       "      <td>False</td>\n",
       "      <td>3</td>\n",
       "      <td>...</td>\n",
       "      <td>30</td>\n",
       "      <td>None</td>\n",
       "      <td>saves/pe-got_it-6_fit-hr_exp-aux_t-sce_aux-b1w...</td>\n",
       "      <td>1</td>\n",
       "      <td>0.5</td>\n",
       "      <td>False</td>\n",
       "      <td>1</td>\n",
       "      <td>1</td>\n",
       "      <td>1</td>\n",
       "      <td>[64, 256]</td>\n",
       "    </tr>\n",
       "    <tr>\n",
       "      <th>1</th>\n",
       "      <td>True</td>\n",
       "      <td>relu</td>\n",
       "      <td>None</td>\n",
       "      <td>4</td>\n",
       "      <td>6</td>\n",
       "      <td>40</td>\n",
       "      <td>3</td>\n",
       "      <td>False</td>\n",
       "      <td>False</td>\n",
       "      <td>3</td>\n",
       "      <td>...</td>\n",
       "      <td>30</td>\n",
       "      <td>None</td>\n",
       "      <td>saves/pe-got_it-6_fit-hr_exp-aux_t-sce_aux-b1w...</td>\n",
       "      <td>2</td>\n",
       "      <td>0.5</td>\n",
       "      <td>False</td>\n",
       "      <td>1</td>\n",
       "      <td>1</td>\n",
       "      <td>1</td>\n",
       "      <td>[64, 256]</td>\n",
       "    </tr>\n",
       "    <tr>\n",
       "      <th>2</th>\n",
       "      <td>True</td>\n",
       "      <td>relu</td>\n",
       "      <td>None</td>\n",
       "      <td>4</td>\n",
       "      <td>6</td>\n",
       "      <td>40</td>\n",
       "      <td>3</td>\n",
       "      <td>False</td>\n",
       "      <td>False</td>\n",
       "      <td>3</td>\n",
       "      <td>...</td>\n",
       "      <td>30</td>\n",
       "      <td>None</td>\n",
       "      <td>saves/pe-got_it-6_fit-hr_exp-aux_t-sce_aux-b0w...</td>\n",
       "      <td>4</td>\n",
       "      <td>0.5</td>\n",
       "      <td>False</td>\n",
       "      <td>1</td>\n",
       "      <td>1</td>\n",
       "      <td>1</td>\n",
       "      <td>[64, 256]</td>\n",
       "    </tr>\n",
       "    <tr>\n",
       "      <th>3</th>\n",
       "      <td>True</td>\n",
       "      <td>relu</td>\n",
       "      <td>None</td>\n",
       "      <td>4</td>\n",
       "      <td>6</td>\n",
       "      <td>40</td>\n",
       "      <td>3</td>\n",
       "      <td>False</td>\n",
       "      <td>False</td>\n",
       "      <td>3</td>\n",
       "      <td>...</td>\n",
       "      <td>30</td>\n",
       "      <td>None</td>\n",
       "      <td>saves/pe-got_it-6_fit-hr_exp-aux_t-sce_aux-b1w...</td>\n",
       "      <td>6</td>\n",
       "      <td>0.5</td>\n",
       "      <td>False</td>\n",
       "      <td>1</td>\n",
       "      <td>1</td>\n",
       "      <td>1</td>\n",
       "      <td>[64, 256]</td>\n",
       "    </tr>\n",
       "    <tr>\n",
       "      <th>4</th>\n",
       "      <td>True</td>\n",
       "      <td>relu</td>\n",
       "      <td>None</td>\n",
       "      <td>4</td>\n",
       "      <td>6</td>\n",
       "      <td>40</td>\n",
       "      <td>3</td>\n",
       "      <td>False</td>\n",
       "      <td>False</td>\n",
       "      <td>3</td>\n",
       "      <td>...</td>\n",
       "      <td>30</td>\n",
       "      <td>None</td>\n",
       "      <td>saves/pe-got_it-6_fit-hr_exp-aux_t-sce_aux-b2w...</td>\n",
       "      <td>6</td>\n",
       "      <td>0.5</td>\n",
       "      <td>False</td>\n",
       "      <td>1</td>\n",
       "      <td>1</td>\n",
       "      <td>1</td>\n",
       "      <td>[64, 256]</td>\n",
       "    </tr>\n",
       "  </tbody>\n",
       "</table>\n",
       "<p>5 rows × 95 columns</p>\n",
       "</div>"
      ]
     },
     "execution_count": 7,
     "metadata": {},
     "output_type": "execute_result"
    }
   ],
   "execution_count": 7
  },
  {
   "metadata": {
    "ExecuteTime": {
     "end_time": "2025-01-08T09:32:17.969024Z",
     "start_time": "2025-01-08T09:32:17.959362Z"
    }
   },
   "cell_type": "code",
   "source": [
    "commands = list()\n",
    "\n",
    "def get_config(exp_group, target_character):\n",
    "    return df[(df['exp_group'] == exp_group) & (df['target_character'] == target_character)].iloc[0]\n",
    "\n",
    "for index, row in df.iterrows():\n",
    "    \n",
    "    config = get_config(row['exp_group'], row['target_character'])\n",
    "    \n",
    "    seed = row['seed']\n",
    "    exp_group = row['exp_group']\n",
    "    target_character = row['target_character']\n",
    "    \n",
    "    total_iterations = config['total_iterations']\n",
    "    gpt_model = config['gpt_model']\n",
    "    exp_name = config['exp_name']\n",
    "    n_self_alignment = config['n_self_alignment']\n",
    "    evaluator = config['evaluator']\n",
    "    pe = config['pe']\n",
    "    n_aux_worst = config['n_aux_worst']\n",
    "    n_aux_best = config['n_aux_best']\n",
    "    \n",
    "    # if nan\n",
    "    if pd.isna(n_self_alignment):\n",
    "        n_self_alignment = 0\n",
    "    n_self_alignment = int(n_self_alignment)\n",
    "    \n",
    "\n",
    "    command = f\"bash sbatch_gpu.sh experiment.py n_envs=600 wandb_project=scenario-aux task=scenario overwrite=False pe={pe} exp_name={exp_name} gpt_model={gpt_model} total_iterations={total_iterations} seed={seed} evaluator={evaluator} target_character={target_character} n_self_alignment={n_self_alignment} wandb_resume=must n_aux_worst={n_aux_worst} n_aux_best={n_aux_best}\"\n",
    "    commands.append(command)\n",
    "\n",
    "commands"
   ],
   "id": "77b6b335c1cc4b37",
   "outputs": [
    {
     "data": {
      "text/plain": [
       "['bash sbatch_gpu.sh experiment.py n_envs=600 wandb_project=scenario-aux task=scenario overwrite=False pe=got exp_name=aux gpt_model=gpt-4o total_iterations=6 seed=1 evaluator=hr target_character=1 n_self_alignment=0 wandb_resume=must n_aux_worst=0 n_aux_best=1',\n",
       " 'bash sbatch_gpu.sh experiment.py n_envs=600 wandb_project=scenario-aux task=scenario overwrite=False pe=got exp_name=aux gpt_model=gpt-4o total_iterations=6 seed=2 evaluator=hr target_character=2 n_self_alignment=0 wandb_resume=must n_aux_worst=0 n_aux_best=1',\n",
       " 'bash sbatch_gpu.sh experiment.py n_envs=600 wandb_project=scenario-aux task=scenario overwrite=False pe=got exp_name=aux gpt_model=gpt-4o total_iterations=6 seed=4 evaluator=hr target_character=2 n_self_alignment=0 wandb_resume=must n_aux_worst=1 n_aux_best=0',\n",
       " 'bash sbatch_gpu.sh experiment.py n_envs=600 wandb_project=scenario-aux task=scenario overwrite=False pe=got exp_name=aux gpt_model=gpt-4o total_iterations=6 seed=6 evaluator=hr target_character=2 n_self_alignment=0 wandb_resume=must n_aux_worst=1 n_aux_best=1',\n",
       " 'bash sbatch_gpu.sh experiment.py n_envs=600 wandb_project=scenario-aux task=scenario overwrite=False pe=got exp_name=aux gpt_model=gpt-4o total_iterations=6 seed=6 evaluator=hr target_character=2 n_self_alignment=0 wandb_resume=must n_aux_worst=1 n_aux_best=2']"
      ]
     },
     "execution_count": 15,
     "metadata": {},
     "output_type": "execute_result"
    }
   ],
   "execution_count": 15
  },
  {
   "metadata": {
    "ExecuteTime": {
     "end_time": "2025-01-08T09:32:24.055834Z",
     "start_time": "2025-01-08T09:32:24.052718Z"
    }
   },
   "cell_type": "code",
   "source": [
    "commands_block = \" \\n\".join(commands)\n",
    "from IPython.display import display, Markdown\n",
    "display(Markdown(\"```bash\\n\" + commands_block + \"\"))"
   ],
   "id": "2d301c5c3f15f061",
   "outputs": [
    {
     "data": {
      "text/plain": [
       "<IPython.core.display.Markdown object>"
      ],
      "text/markdown": "```bash\nbash sbatch_gpu.sh experiment.py n_envs=600 wandb_project=scenario-aux task=scenario overwrite=False pe=got exp_name=aux gpt_model=gpt-4o total_iterations=6 seed=1 evaluator=hr target_character=1 n_self_alignment=0 wandb_resume=must n_aux_worst=0 n_aux_best=1 \nbash sbatch_gpu.sh experiment.py n_envs=600 wandb_project=scenario-aux task=scenario overwrite=False pe=got exp_name=aux gpt_model=gpt-4o total_iterations=6 seed=2 evaluator=hr target_character=2 n_self_alignment=0 wandb_resume=must n_aux_worst=0 n_aux_best=1 \nbash sbatch_gpu.sh experiment.py n_envs=600 wandb_project=scenario-aux task=scenario overwrite=False pe=got exp_name=aux gpt_model=gpt-4o total_iterations=6 seed=4 evaluator=hr target_character=2 n_self_alignment=0 wandb_resume=must n_aux_worst=1 n_aux_best=0 \nbash sbatch_gpu.sh experiment.py n_envs=600 wandb_project=scenario-aux task=scenario overwrite=False pe=got exp_name=aux gpt_model=gpt-4o total_iterations=6 seed=6 evaluator=hr target_character=2 n_self_alignment=0 wandb_resume=must n_aux_worst=1 n_aux_best=1 \nbash sbatch_gpu.sh experiment.py n_envs=600 wandb_project=scenario-aux task=scenario overwrite=False pe=got exp_name=aux gpt_model=gpt-4o total_iterations=6 seed=6 evaluator=hr target_character=2 n_self_alignment=0 wandb_resume=must n_aux_worst=1 n_aux_best=2"
     },
     "metadata": {},
     "output_type": "display_data"
    }
   ],
   "execution_count": 17
  }
 ],
 "metadata": {
  "kernelspec": {
   "display_name": "Python 3",
   "language": "python",
   "name": "python3"
  },
  "language_info": {
   "codemirror_mode": {
    "name": "ipython",
    "version": 2
   },
   "file_extension": ".py",
   "mimetype": "text/x-python",
   "name": "python",
   "nbconvert_exporter": "python",
   "pygments_lexer": "ipython2",
   "version": "2.7.6"
  }
 },
 "nbformat": 4,
 "nbformat_minor": 5
}
