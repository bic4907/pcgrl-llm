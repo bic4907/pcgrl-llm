{
 "cells": [
  {
   "metadata": {
    "ExecuteTime": {
     "end_time": "2024-12-26T01:37:58.086036Z",
     "start_time": "2024-12-26T01:37:57.598622Z"
    }
   },
   "cell_type": "code",
   "source": [
    "import numpy as np\n",
    "import wandb\n",
    "import pandas as pd\n",
    "from tqdm import tqdm"
   ],
   "id": "d9f14382f5b686e0",
   "outputs": [],
   "execution_count": 4
  },
  {
   "metadata": {
    "ExecuteTime": {
     "end_time": "2024-12-26T01:37:58.092228Z",
     "start_time": "2024-12-26T01:37:58.088976Z"
    }
   },
   "cell_type": "code",
   "source": "api = wandb.Api(timeout=600)",
   "id": "e19d07b9b41e8296",
   "outputs": [],
   "execution_count": 5
  },
  {
   "metadata": {
    "ExecuteTime": {
     "end_time": "2024-12-26T01:38:00.216854Z",
     "start_time": "2024-12-26T01:37:58.103507Z"
    }
   },
   "cell_type": "code",
   "source": [
    "runs = api.runs(\"inchangbaek4907/scenario\")\n",
    "len(runs)"
   ],
   "id": "b8f538313e8e36b",
   "outputs": [
    {
     "data": {
      "text/plain": [
       "214"
      ]
     },
     "execution_count": 6,
     "metadata": {},
     "output_type": "execute_result"
    }
   ],
   "execution_count": 6
  },
  {
   "metadata": {
    "ExecuteTime": {
     "end_time": "2024-12-26T01:38:04.337328Z",
     "start_time": "2024-12-26T01:38:00.296726Z"
    }
   },
   "cell_type": "code",
   "source": [
    "runs = list(runs)\n",
    "runs[:5]"
   ],
   "id": "a2be1e037e99e6de",
   "outputs": [
    {
     "data": {
      "text/plain": [
       "[<Run inchangbaek4907/scenario/re2wd1xx (finished)>,\n",
       " <Run inchangbaek4907/scenario/h5m442q9 (finished)>,\n",
       " <Run inchangbaek4907/scenario/ak7yr998 (finished)>,\n",
       " <Run inchangbaek4907/scenario/mwu8l4yk (finished)>,\n",
       " <Run inchangbaek4907/scenario/7ek9ue01 (finished)>]"
      ]
     },
     "execution_count": 7,
     "metadata": {},
     "output_type": "execute_result"
    }
   ],
   "execution_count": 7
  },
  {
   "metadata": {
    "ExecuteTime": {
     "end_time": "2024-12-26T01:38:04.411681Z",
     "start_time": "2024-12-26T01:38:04.408572Z"
    }
   },
   "cell_type": "code",
   "source": [
    "\n",
    "class RunInfo:\n",
    "    config: dict\n",
    "    name: str\n",
    "    run_object: wandb.apis.public.Run\n",
    "    \n",
    "    def __init__(self, config, name, run_object):\n",
    "        self.config = config\n",
    "        self.name = name\n",
    "        self.run_object = run_object\n",
    "\n",
    "    def __str__(self):\n",
    "        showing_config = dict()\n",
    "        showing_keys = ['gpt_model']\n",
    "        \n",
    "        for key in showing_keys:\n",
    "            if key in self.config:\n",
    "                showing_config[key] = self.config[key]\n",
    "        \n",
    "        return f\"RunInfo(\\n\\tname={self.name},\\n\\tconfig={showing_config}\\n)\""
   ],
   "id": "59e1d1a01fc2cff3",
   "outputs": [],
   "execution_count": 8
  },
  {
   "metadata": {
    "ExecuteTime": {
     "end_time": "2024-12-26T01:40:01.547943Z",
     "start_time": "2024-12-26T01:40:01.543176Z"
    }
   },
   "cell_type": "code",
   "source": [
    "run_infos = list()\n",
    "\n",
    "for run in tqdm(runs):\n",
    "    if run.state == 'finished' and run.summary['Evaluation/llm_iteration'] < 6:\n",
    "        run_infos.append(RunInfo(run.config, run.name, run))\n",
    "\n",
    "len(run_infos)"
   ],
   "id": "2a1641a8d4bce8b4",
   "outputs": [
    {
     "name": "stderr",
     "output_type": "stream",
     "text": [
      "100%|██████████| 214/214 [00:00<00:00, 438486.10it/s]\n"
     ]
    },
    {
     "data": {
      "text/plain": [
       "10"
      ]
     },
     "execution_count": 18,
     "metadata": {},
     "output_type": "execute_result"
    }
   ],
   "execution_count": 18
  },
  {
   "metadata": {
    "ExecuteTime": {
     "end_time": "2024-12-26T01:40:05.120193Z",
     "start_time": "2024-12-26T01:40:05.099825Z"
    }
   },
   "cell_type": "code",
   "source": [
    "configs = list()\n",
    "for run_info in tqdm(run_infos[:]):\n",
    "    configs.append(run_info.config)\n",
    "    \n",
    "df = pd.DataFrame(configs)\n",
    "df"
   ],
   "id": "43f6bf9e7b63f368",
   "outputs": [
    {
     "name": "stderr",
     "output_type": "stream",
     "text": [
      "100%|██████████| 10/10 [00:00<00:00, 44667.77it/s]\n"
     ]
    },
    {
     "data": {
      "text/plain": [
       "       lr   pe  seed      task  DEBUG  GAMMA  is_3d model  n_eps  n_envs  ...  \\\n",
       "0  0.0001  got     5  scenario   True   0.99  False  conv      2     600  ...   \n",
       "1  0.0001  tot     4  scenario   True   0.99  False  conv      2     600  ...   \n",
       "2  0.0001  cot     1  scenario   True   0.99  False  conv      2     600  ...   \n",
       "3  0.0001  cot     6  scenario   True   0.99  False  conv      2     600  ...   \n",
       "4  0.0001  cot     2  scenario   True   0.99  False  conv      2     600  ...   \n",
       "5  0.0001  cot     5  scenario   True   0.99  False  conv      2     600  ...   \n",
       "6  0.0001  tot     5  scenario   True   0.99  False  conv      2     600  ...   \n",
       "7  0.0001  tot     5  scenario   True   0.99  False  conv      2     600  ...   \n",
       "8  0.0001  got     4  scenario   True   0.99  False  conv      2     600  ...   \n",
       "9  0.0001  got     5  scenario   True   0.99  False  conv      2     600  ...   \n",
       "\n",
       "   gif_frame_duration  feedback_input_type n_generation_trials  \\\n",
       "0                  25                array                   5   \n",
       "1                  25                array                   5   \n",
       "2                  25                array                   5   \n",
       "3                  25                array                   5   \n",
       "4                  25                array                   5   \n",
       "5                  25                array                   5   \n",
       "6                  25                array                   5   \n",
       "7                  25                array                   5   \n",
       "8                  25                array                   5   \n",
       "9                  25                array                   5   \n",
       "\n",
       "   randomize_map_shape randomize_start_pos  timestep_chunk_size  \\\n",
       "0                False               False                   -1   \n",
       "1                False               False                   -1   \n",
       "2                False               False                   -1   \n",
       "3                False               False                   -1   \n",
       "4                False               False                   -1   \n",
       "5                False               False                   -1   \n",
       "6                False               False                   -1   \n",
       "7                False               False                   -1   \n",
       "8                False               False                   -1   \n",
       "9                False               False                   -1   \n",
       "\n",
       "   bypass_feedback_path eval_max_board_scans reward_function_path  \\\n",
       "0                  None                    3                 None   \n",
       "1                  None                    3                 None   \n",
       "2                  None                    3                 None   \n",
       "3                  None                    3                 None   \n",
       "4                  None                    3                 None   \n",
       "5                  None                    3                 None   \n",
       "6                  None                    3                 None   \n",
       "7                  None                    3                 None   \n",
       "8                  None                    3                 None   \n",
       "9                  None                    3                 None   \n",
       "\n",
       "   eval_randomize_map_shape  \n",
       "0                     False  \n",
       "1                     False  \n",
       "2                     False  \n",
       "3                     False  \n",
       "4                     False  \n",
       "5                     False  \n",
       "6                     False  \n",
       "7                     False  \n",
       "8                     False  \n",
       "9                     False  \n",
       "\n",
       "[10 rows x 93 columns]"
      ],
      "text/html": [
       "<div>\n",
       "<style scoped>\n",
       "    .dataframe tbody tr th:only-of-type {\n",
       "        vertical-align: middle;\n",
       "    }\n",
       "\n",
       "    .dataframe tbody tr th {\n",
       "        vertical-align: top;\n",
       "    }\n",
       "\n",
       "    .dataframe thead th {\n",
       "        text-align: right;\n",
       "    }\n",
       "</style>\n",
       "<table border=\"1\" class=\"dataframe\">\n",
       "  <thead>\n",
       "    <tr style=\"text-align: right;\">\n",
       "      <th></th>\n",
       "      <th>lr</th>\n",
       "      <th>pe</th>\n",
       "      <th>seed</th>\n",
       "      <th>task</th>\n",
       "      <th>DEBUG</th>\n",
       "      <th>GAMMA</th>\n",
       "      <th>is_3d</th>\n",
       "      <th>model</th>\n",
       "      <th>n_eps</th>\n",
       "      <th>n_envs</th>\n",
       "      <th>...</th>\n",
       "      <th>gif_frame_duration</th>\n",
       "      <th>feedback_input_type</th>\n",
       "      <th>n_generation_trials</th>\n",
       "      <th>randomize_map_shape</th>\n",
       "      <th>randomize_start_pos</th>\n",
       "      <th>timestep_chunk_size</th>\n",
       "      <th>bypass_feedback_path</th>\n",
       "      <th>eval_max_board_scans</th>\n",
       "      <th>reward_function_path</th>\n",
       "      <th>eval_randomize_map_shape</th>\n",
       "    </tr>\n",
       "  </thead>\n",
       "  <tbody>\n",
       "    <tr>\n",
       "      <th>0</th>\n",
       "      <td>0.0001</td>\n",
       "      <td>got</td>\n",
       "      <td>5</td>\n",
       "      <td>scenario</td>\n",
       "      <td>True</td>\n",
       "      <td>0.99</td>\n",
       "      <td>False</td>\n",
       "      <td>conv</td>\n",
       "      <td>2</td>\n",
       "      <td>600</td>\n",
       "      <td>...</td>\n",
       "      <td>25</td>\n",
       "      <td>array</td>\n",
       "      <td>5</td>\n",
       "      <td>False</td>\n",
       "      <td>False</td>\n",
       "      <td>-1</td>\n",
       "      <td>None</td>\n",
       "      <td>3</td>\n",
       "      <td>None</td>\n",
       "      <td>False</td>\n",
       "    </tr>\n",
       "    <tr>\n",
       "      <th>1</th>\n",
       "      <td>0.0001</td>\n",
       "      <td>tot</td>\n",
       "      <td>4</td>\n",
       "      <td>scenario</td>\n",
       "      <td>True</td>\n",
       "      <td>0.99</td>\n",
       "      <td>False</td>\n",
       "      <td>conv</td>\n",
       "      <td>2</td>\n",
       "      <td>600</td>\n",
       "      <td>...</td>\n",
       "      <td>25</td>\n",
       "      <td>array</td>\n",
       "      <td>5</td>\n",
       "      <td>False</td>\n",
       "      <td>False</td>\n",
       "      <td>-1</td>\n",
       "      <td>None</td>\n",
       "      <td>3</td>\n",
       "      <td>None</td>\n",
       "      <td>False</td>\n",
       "    </tr>\n",
       "    <tr>\n",
       "      <th>2</th>\n",
       "      <td>0.0001</td>\n",
       "      <td>cot</td>\n",
       "      <td>1</td>\n",
       "      <td>scenario</td>\n",
       "      <td>True</td>\n",
       "      <td>0.99</td>\n",
       "      <td>False</td>\n",
       "      <td>conv</td>\n",
       "      <td>2</td>\n",
       "      <td>600</td>\n",
       "      <td>...</td>\n",
       "      <td>25</td>\n",
       "      <td>array</td>\n",
       "      <td>5</td>\n",
       "      <td>False</td>\n",
       "      <td>False</td>\n",
       "      <td>-1</td>\n",
       "      <td>None</td>\n",
       "      <td>3</td>\n",
       "      <td>None</td>\n",
       "      <td>False</td>\n",
       "    </tr>\n",
       "    <tr>\n",
       "      <th>3</th>\n",
       "      <td>0.0001</td>\n",
       "      <td>cot</td>\n",
       "      <td>6</td>\n",
       "      <td>scenario</td>\n",
       "      <td>True</td>\n",
       "      <td>0.99</td>\n",
       "      <td>False</td>\n",
       "      <td>conv</td>\n",
       "      <td>2</td>\n",
       "      <td>600</td>\n",
       "      <td>...</td>\n",
       "      <td>25</td>\n",
       "      <td>array</td>\n",
       "      <td>5</td>\n",
       "      <td>False</td>\n",
       "      <td>False</td>\n",
       "      <td>-1</td>\n",
       "      <td>None</td>\n",
       "      <td>3</td>\n",
       "      <td>None</td>\n",
       "      <td>False</td>\n",
       "    </tr>\n",
       "    <tr>\n",
       "      <th>4</th>\n",
       "      <td>0.0001</td>\n",
       "      <td>cot</td>\n",
       "      <td>2</td>\n",
       "      <td>scenario</td>\n",
       "      <td>True</td>\n",
       "      <td>0.99</td>\n",
       "      <td>False</td>\n",
       "      <td>conv</td>\n",
       "      <td>2</td>\n",
       "      <td>600</td>\n",
       "      <td>...</td>\n",
       "      <td>25</td>\n",
       "      <td>array</td>\n",
       "      <td>5</td>\n",
       "      <td>False</td>\n",
       "      <td>False</td>\n",
       "      <td>-1</td>\n",
       "      <td>None</td>\n",
       "      <td>3</td>\n",
       "      <td>None</td>\n",
       "      <td>False</td>\n",
       "    </tr>\n",
       "    <tr>\n",
       "      <th>5</th>\n",
       "      <td>0.0001</td>\n",
       "      <td>cot</td>\n",
       "      <td>5</td>\n",
       "      <td>scenario</td>\n",
       "      <td>True</td>\n",
       "      <td>0.99</td>\n",
       "      <td>False</td>\n",
       "      <td>conv</td>\n",
       "      <td>2</td>\n",
       "      <td>600</td>\n",
       "      <td>...</td>\n",
       "      <td>25</td>\n",
       "      <td>array</td>\n",
       "      <td>5</td>\n",
       "      <td>False</td>\n",
       "      <td>False</td>\n",
       "      <td>-1</td>\n",
       "      <td>None</td>\n",
       "      <td>3</td>\n",
       "      <td>None</td>\n",
       "      <td>False</td>\n",
       "    </tr>\n",
       "    <tr>\n",
       "      <th>6</th>\n",
       "      <td>0.0001</td>\n",
       "      <td>tot</td>\n",
       "      <td>5</td>\n",
       "      <td>scenario</td>\n",
       "      <td>True</td>\n",
       "      <td>0.99</td>\n",
       "      <td>False</td>\n",
       "      <td>conv</td>\n",
       "      <td>2</td>\n",
       "      <td>600</td>\n",
       "      <td>...</td>\n",
       "      <td>25</td>\n",
       "      <td>array</td>\n",
       "      <td>5</td>\n",
       "      <td>False</td>\n",
       "      <td>False</td>\n",
       "      <td>-1</td>\n",
       "      <td>None</td>\n",
       "      <td>3</td>\n",
       "      <td>None</td>\n",
       "      <td>False</td>\n",
       "    </tr>\n",
       "    <tr>\n",
       "      <th>7</th>\n",
       "      <td>0.0001</td>\n",
       "      <td>tot</td>\n",
       "      <td>5</td>\n",
       "      <td>scenario</td>\n",
       "      <td>True</td>\n",
       "      <td>0.99</td>\n",
       "      <td>False</td>\n",
       "      <td>conv</td>\n",
       "      <td>2</td>\n",
       "      <td>600</td>\n",
       "      <td>...</td>\n",
       "      <td>25</td>\n",
       "      <td>array</td>\n",
       "      <td>5</td>\n",
       "      <td>False</td>\n",
       "      <td>False</td>\n",
       "      <td>-1</td>\n",
       "      <td>None</td>\n",
       "      <td>3</td>\n",
       "      <td>None</td>\n",
       "      <td>False</td>\n",
       "    </tr>\n",
       "    <tr>\n",
       "      <th>8</th>\n",
       "      <td>0.0001</td>\n",
       "      <td>got</td>\n",
       "      <td>4</td>\n",
       "      <td>scenario</td>\n",
       "      <td>True</td>\n",
       "      <td>0.99</td>\n",
       "      <td>False</td>\n",
       "      <td>conv</td>\n",
       "      <td>2</td>\n",
       "      <td>600</td>\n",
       "      <td>...</td>\n",
       "      <td>25</td>\n",
       "      <td>array</td>\n",
       "      <td>5</td>\n",
       "      <td>False</td>\n",
       "      <td>False</td>\n",
       "      <td>-1</td>\n",
       "      <td>None</td>\n",
       "      <td>3</td>\n",
       "      <td>None</td>\n",
       "      <td>False</td>\n",
       "    </tr>\n",
       "    <tr>\n",
       "      <th>9</th>\n",
       "      <td>0.0001</td>\n",
       "      <td>got</td>\n",
       "      <td>5</td>\n",
       "      <td>scenario</td>\n",
       "      <td>True</td>\n",
       "      <td>0.99</td>\n",
       "      <td>False</td>\n",
       "      <td>conv</td>\n",
       "      <td>2</td>\n",
       "      <td>600</td>\n",
       "      <td>...</td>\n",
       "      <td>25</td>\n",
       "      <td>array</td>\n",
       "      <td>5</td>\n",
       "      <td>False</td>\n",
       "      <td>False</td>\n",
       "      <td>-1</td>\n",
       "      <td>None</td>\n",
       "      <td>3</td>\n",
       "      <td>None</td>\n",
       "      <td>False</td>\n",
       "    </tr>\n",
       "  </tbody>\n",
       "</table>\n",
       "<p>10 rows × 93 columns</p>\n",
       "</div>"
      ]
     },
     "execution_count": 19,
     "metadata": {},
     "output_type": "execute_result"
    }
   ],
   "execution_count": 19
  },
  {
   "metadata": {
    "ExecuteTime": {
     "end_time": "2024-12-26T01:47:33.570408Z",
     "start_time": "2024-12-26T01:47:33.557520Z"
    }
   },
   "cell_type": "code",
   "source": [
    "commands = list()\n",
    "\n",
    "def get_config(exp_group, target_character):\n",
    "    return df[(df['exp_group'] == exp_group) & (df['target_character'] == target_character)].iloc[0]\n",
    "\n",
    "for index, row in df.iterrows():\n",
    "    \n",
    "    config = get_config(row['exp_group'], row['target_character'])\n",
    "    \n",
    "    seed = row['seed']\n",
    "    exp_group = row['exp_group']\n",
    "    target_character = row['target_character']\n",
    "    \n",
    "    total_iterations = config['total_iterations']\n",
    "    gpt_model = config['gpt_model']\n",
    "    exp_name = config['exp_name']\n",
    "    n_self_alignment = config['n_self_alignment']\n",
    "    evaluator = config['evaluator']\n",
    "    pe = config['pe']\n",
    "    \n",
    "    # if nan\n",
    "    if pd.isna(n_self_alignment):\n",
    "        n_self_alignment = 0\n",
    "    n_self_alignment = int(n_self_alignment)\n",
    "    \n",
    "\n",
    "    command = f\"bash sbatch_gpu.sh experiment.py n_envs=600 wandb_project=scenario task=scenario overwrite=True pe={pe} exp_name={exp_name} gpt_model={gpt_model} total_iterations={total_iterations} seed={seed} evaluator={evaluator} target_character={target_character} n_self_alignment={n_self_alignment}\"\n",
    "    commands.append(command)\n",
    "\n",
    "commands"
   ],
   "id": "77b6b335c1cc4b37",
   "outputs": [
    {
     "data": {
      "text/plain": [
       "['bash sbatch_gpu.sh experiment.py n_envs=600 wandb_project=scenario task=scenario overwrite=True pe=got exp_name=chatgpt4o gpt_model=chatgpt-4o total_iterations=6 seed=5 evaluator=hr target_character=1 n_self_alignment=0',\n",
       " 'bash sbatch_gpu.sh experiment.py n_envs=600 wandb_project=scenario task=scenario overwrite=True pe=tot exp_name=chatgpt4osa gpt_model=chatgpt-4o total_iterations=6 seed=4 evaluator=hr target_character=1 n_self_alignment=5',\n",
       " 'bash sbatch_gpu.sh experiment.py n_envs=600 wandb_project=scenario task=scenario overwrite=True pe=cot exp_name=chatgpt4osa gpt_model=chatgpt-4o total_iterations=6 seed=1 evaluator=hr target_character=2 n_self_alignment=5',\n",
       " 'bash sbatch_gpu.sh experiment.py n_envs=600 wandb_project=scenario task=scenario overwrite=True pe=cot exp_name=chatgpt4osa gpt_model=chatgpt-4o total_iterations=6 seed=6 evaluator=hr target_character=1 n_self_alignment=5',\n",
       " 'bash sbatch_gpu.sh experiment.py n_envs=600 wandb_project=scenario task=scenario overwrite=True pe=cot exp_name=chatgpt4osa gpt_model=chatgpt-4o total_iterations=6 seed=2 evaluator=hr target_character=1 n_self_alignment=5',\n",
       " 'bash sbatch_gpu.sh experiment.py n_envs=600 wandb_project=scenario task=scenario overwrite=True pe=cot exp_name=chatgpt4osa gpt_model=chatgpt-4o total_iterations=6 seed=5 evaluator=hr target_character=1 n_self_alignment=5',\n",
       " 'bash sbatch_gpu.sh experiment.py n_envs=600 wandb_project=scenario task=scenario overwrite=True pe=tot exp_name=chatgpt4osa gpt_model=chatgpt-4o total_iterations=6 seed=5 evaluator=hr target_character=2 n_self_alignment=5',\n",
       " 'bash sbatch_gpu.sh experiment.py n_envs=600 wandb_project=scenario task=scenario overwrite=True pe=tot exp_name=chatgpt4osa gpt_model=chatgpt-4o total_iterations=6 seed=5 evaluator=hr target_character=1 n_self_alignment=5',\n",
       " 'bash sbatch_gpu.sh experiment.py n_envs=600 wandb_project=scenario task=scenario overwrite=True pe=got exp_name=chatgpt4osa gpt_model=chatgpt-4o total_iterations=6 seed=4 evaluator=hr target_character=2 n_self_alignment=5',\n",
       " 'bash sbatch_gpu.sh experiment.py n_envs=600 wandb_project=scenario task=scenario overwrite=True pe=got exp_name=chatgpt4osa gpt_model=chatgpt-4o total_iterations=6 seed=5 evaluator=hr target_character=2 n_self_alignment=5']"
      ]
     },
     "execution_count": 28,
     "metadata": {},
     "output_type": "execute_result"
    }
   ],
   "execution_count": 28
  },
  {
   "metadata": {
    "ExecuteTime": {
     "end_time": "2024-12-26T01:47:35.313560Z",
     "start_time": "2024-12-26T01:47:35.309047Z"
    }
   },
   "cell_type": "code",
   "source": [
    "commands_block = \" \\n\".join(commands)\n",
    "from IPython.display import display, Markdown\n",
    "display(Markdown(\"```bash\\n\" + commands_block + \"\"))"
   ],
   "id": "2d301c5c3f15f061",
   "outputs": [
    {
     "data": {
      "text/plain": [
       "<IPython.core.display.Markdown object>"
      ],
      "text/markdown": "```bash\nbash sbatch_gpu.sh experiment.py n_envs=600 wandb_project=scenario task=scenario overwrite=True pe=got exp_name=chatgpt4o gpt_model=chatgpt-4o total_iterations=6 seed=5 evaluator=hr target_character=1 n_self_alignment=0 \nbash sbatch_gpu.sh experiment.py n_envs=600 wandb_project=scenario task=scenario overwrite=True pe=tot exp_name=chatgpt4osa gpt_model=chatgpt-4o total_iterations=6 seed=4 evaluator=hr target_character=1 n_self_alignment=5 \nbash sbatch_gpu.sh experiment.py n_envs=600 wandb_project=scenario task=scenario overwrite=True pe=cot exp_name=chatgpt4osa gpt_model=chatgpt-4o total_iterations=6 seed=1 evaluator=hr target_character=2 n_self_alignment=5 \nbash sbatch_gpu.sh experiment.py n_envs=600 wandb_project=scenario task=scenario overwrite=True pe=cot exp_name=chatgpt4osa gpt_model=chatgpt-4o total_iterations=6 seed=6 evaluator=hr target_character=1 n_self_alignment=5 \nbash sbatch_gpu.sh experiment.py n_envs=600 wandb_project=scenario task=scenario overwrite=True pe=cot exp_name=chatgpt4osa gpt_model=chatgpt-4o total_iterations=6 seed=2 evaluator=hr target_character=1 n_self_alignment=5 \nbash sbatch_gpu.sh experiment.py n_envs=600 wandb_project=scenario task=scenario overwrite=True pe=cot exp_name=chatgpt4osa gpt_model=chatgpt-4o total_iterations=6 seed=5 evaluator=hr target_character=1 n_self_alignment=5 \nbash sbatch_gpu.sh experiment.py n_envs=600 wandb_project=scenario task=scenario overwrite=True pe=tot exp_name=chatgpt4osa gpt_model=chatgpt-4o total_iterations=6 seed=5 evaluator=hr target_character=2 n_self_alignment=5 \nbash sbatch_gpu.sh experiment.py n_envs=600 wandb_project=scenario task=scenario overwrite=True pe=tot exp_name=chatgpt4osa gpt_model=chatgpt-4o total_iterations=6 seed=5 evaluator=hr target_character=1 n_self_alignment=5 \nbash sbatch_gpu.sh experiment.py n_envs=600 wandb_project=scenario task=scenario overwrite=True pe=got exp_name=chatgpt4osa gpt_model=chatgpt-4o total_iterations=6 seed=4 evaluator=hr target_character=2 n_self_alignment=5 \nbash sbatch_gpu.sh experiment.py n_envs=600 wandb_project=scenario task=scenario overwrite=True pe=got exp_name=chatgpt4osa gpt_model=chatgpt-4o total_iterations=6 seed=5 evaluator=hr target_character=2 n_self_alignment=5"
     },
     "metadata": {},
     "output_type": "display_data"
    }
   ],
   "execution_count": 29
  }
 ],
 "metadata": {
  "kernelspec": {
   "display_name": "Python 3",
   "language": "python",
   "name": "python3"
  },
  "language_info": {
   "codemirror_mode": {
    "name": "ipython",
    "version": 2
   },
   "file_extension": ".py",
   "mimetype": "text/x-python",
   "name": "python",
   "nbconvert_exporter": "python",
   "pygments_lexer": "ipython2",
   "version": "2.7.6"
  }
 },
 "nbformat": 4,
 "nbformat_minor": 5
}
