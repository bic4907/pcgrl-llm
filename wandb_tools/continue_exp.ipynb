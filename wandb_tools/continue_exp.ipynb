{
 "cells": [
  {
   "metadata": {
    "ExecuteTime": {
     "end_time": "2024-12-27T04:31:25.007603Z",
     "start_time": "2024-12-27T04:31:25.002540Z"
    }
   },
   "cell_type": "code",
   "source": [
    "import numpy as np\n",
    "import wandb\n",
    "import pandas as pd\n",
    "from tqdm import tqdm"
   ],
   "id": "d9f14382f5b686e0",
   "outputs": [],
   "execution_count": 37
  },
  {
   "metadata": {
    "ExecuteTime": {
     "end_time": "2024-12-27T04:31:25.021956Z",
     "start_time": "2024-12-27T04:31:25.013052Z"
    }
   },
   "cell_type": "code",
   "source": "api = wandb.Api(timeout=600)",
   "id": "e19d07b9b41e8296",
   "outputs": [],
   "execution_count": 38
  },
  {
   "metadata": {
    "ExecuteTime": {
     "end_time": "2024-12-27T04:31:26.800538Z",
     "start_time": "2024-12-27T04:31:25.034411Z"
    }
   },
   "cell_type": "code",
   "source": [
    "runs = api.runs(\"inchangbaek4907/scenario\")\n",
    "len(runs)"
   ],
   "id": "b8f538313e8e36b",
   "outputs": [
    {
     "data": {
      "text/plain": [
       "213"
      ]
     },
     "execution_count": 39,
     "metadata": {},
     "output_type": "execute_result"
    }
   ],
   "execution_count": 39
  },
  {
   "metadata": {
    "ExecuteTime": {
     "end_time": "2024-12-27T04:31:29.677644Z",
     "start_time": "2024-12-27T04:31:26.823189Z"
    }
   },
   "cell_type": "code",
   "source": [
    "runs = list(runs)\n",
    "runs[:5]"
   ],
   "id": "a2be1e037e99e6de",
   "outputs": [
    {
     "data": {
      "text/plain": [
       "[<Run inchangbaek4907/scenario/re2wd1xx (finished)>,\n",
       " <Run inchangbaek4907/scenario/h5m442q9 (finished)>,\n",
       " <Run inchangbaek4907/scenario/ak7yr998 (finished)>,\n",
       " <Run inchangbaek4907/scenario/mwu8l4yk (finished)>,\n",
       " <Run inchangbaek4907/scenario/7ek9ue01 (finished)>]"
      ]
     },
     "execution_count": 40,
     "metadata": {},
     "output_type": "execute_result"
    }
   ],
   "execution_count": 40
  },
  {
   "metadata": {
    "ExecuteTime": {
     "end_time": "2024-12-27T04:31:29.759095Z",
     "start_time": "2024-12-27T04:31:29.756507Z"
    }
   },
   "cell_type": "code",
   "source": [
    "\n",
    "class RunInfo:\n",
    "    config: dict\n",
    "    name: str\n",
    "    run_object: wandb.apis.public.Run\n",
    "    \n",
    "    def __init__(self, config, name, run_object):\n",
    "        self.config = config\n",
    "        self.name = name\n",
    "        self.run_object = run_object\n",
    "\n",
    "    def __str__(self):\n",
    "        showing_config = dict()\n",
    "        showing_keys = ['gpt_model']\n",
    "        \n",
    "        for key in showing_keys:\n",
    "            if key in self.config:\n",
    "                showing_config[key] = self.config[key]\n",
    "        \n",
    "        return f\"RunInfo(\\n\\tname={self.name},\\n\\tconfig={showing_config}\\n)\""
   ],
   "id": "59e1d1a01fc2cff3",
   "outputs": [],
   "execution_count": 41
  },
  {
   "metadata": {
    "ExecuteTime": {
     "end_time": "2024-12-27T04:31:29.786698Z",
     "start_time": "2024-12-27T04:31:29.778497Z"
    }
   },
   "cell_type": "code",
   "source": [
    "run_infos = list()\n",
    "\n",
    "for run in tqdm(runs):\n",
    "    if run.state == 'finished' and run.summary['Evaluation/llm_iteration'] < 6:\n",
    "        run_infos.append(RunInfo(run.config, run.name, run))\n",
    "\n",
    "len(run_infos)"
   ],
   "id": "2a1641a8d4bce8b4",
   "outputs": [
    {
     "name": "stderr",
     "output_type": "stream",
     "text": [
      "100%|██████████| 213/213 [00:00<00:00, 114698.52it/s]\n"
     ]
    },
    {
     "data": {
      "text/plain": [
       "0"
      ]
     },
     "execution_count": 42,
     "metadata": {},
     "output_type": "execute_result"
    }
   ],
   "execution_count": 42
  },
  {
   "metadata": {
    "ExecuteTime": {
     "end_time": "2024-12-27T04:31:29.870540Z",
     "start_time": "2024-12-27T04:31:29.865345Z"
    }
   },
   "cell_type": "code",
   "source": [
    "configs = list()\n",
    "for run_info in tqdm(run_infos[:]):\n",
    "    configs.append(run_info.config)\n",
    "    \n",
    "df = pd.DataFrame(configs)\n",
    "df"
   ],
   "id": "43f6bf9e7b63f368",
   "outputs": [
    {
     "name": "stderr",
     "output_type": "stream",
     "text": [
      "0it [00:00, ?it/s]\n"
     ]
    },
    {
     "data": {
      "text/plain": [
       "Empty DataFrame\n",
       "Columns: []\n",
       "Index: []"
      ],
      "text/html": [
       "<div>\n",
       "<style scoped>\n",
       "    .dataframe tbody tr th:only-of-type {\n",
       "        vertical-align: middle;\n",
       "    }\n",
       "\n",
       "    .dataframe tbody tr th {\n",
       "        vertical-align: top;\n",
       "    }\n",
       "\n",
       "    .dataframe thead th {\n",
       "        text-align: right;\n",
       "    }\n",
       "</style>\n",
       "<table border=\"1\" class=\"dataframe\">\n",
       "  <thead>\n",
       "    <tr style=\"text-align: right;\">\n",
       "      <th></th>\n",
       "    </tr>\n",
       "  </thead>\n",
       "  <tbody>\n",
       "  </tbody>\n",
       "</table>\n",
       "</div>"
      ]
     },
     "execution_count": 43,
     "metadata": {},
     "output_type": "execute_result"
    }
   ],
   "execution_count": 43
  },
  {
   "metadata": {
    "ExecuteTime": {
     "end_time": "2024-12-27T04:31:29.915454Z",
     "start_time": "2024-12-27T04:31:29.910073Z"
    }
   },
   "cell_type": "code",
   "source": [
    "commands = list()\n",
    "\n",
    "def get_config(exp_group, target_character):\n",
    "    return df[(df['exp_group'] == exp_group) & (df['target_character'] == target_character)].iloc[0]\n",
    "\n",
    "for index, row in df.iterrows():\n",
    "    \n",
    "    config = get_config(row['exp_group'], row['target_character'])\n",
    "    \n",
    "    seed = row['seed']\n",
    "    exp_group = row['exp_group']\n",
    "    target_character = row['target_character']\n",
    "    \n",
    "    total_iterations = config['total_iterations']\n",
    "    gpt_model = config['gpt_model']\n",
    "    exp_name = config['exp_name']\n",
    "    n_self_alignment = config['n_self_alignment']\n",
    "    evaluator = config['evaluator']\n",
    "    pe = config['pe']\n",
    "    \n",
    "    # if nan\n",
    "    if pd.isna(n_self_alignment):\n",
    "        n_self_alignment = 0\n",
    "    n_self_alignment = int(n_self_alignment)\n",
    "    \n",
    "\n",
    "    command = f\"bash sbatch_gpu.sh experiment.py n_envs=600 wandb_project=scenario task=scenario overwrite=True pe={pe} exp_name={exp_name} gpt_model={gpt_model} total_iterations={total_iterations} seed={seed} evaluator={evaluator} target_character={target_character} n_self_alignment={n_self_alignment}\"\n",
    "    commands.append(command)\n",
    "\n",
    "commands"
   ],
   "id": "77b6b335c1cc4b37",
   "outputs": [
    {
     "data": {
      "text/plain": [
       "[]"
      ]
     },
     "execution_count": 44,
     "metadata": {},
     "output_type": "execute_result"
    }
   ],
   "execution_count": 44
  },
  {
   "metadata": {
    "ExecuteTime": {
     "end_time": "2024-12-27T04:31:29.975779Z",
     "start_time": "2024-12-27T04:31:29.969709Z"
    }
   },
   "cell_type": "code",
   "source": [
    "commands_block = \" \\n\".join(commands)\n",
    "from IPython.display import display, Markdown\n",
    "display(Markdown(\"```bash\\n\" + commands_block + \"\"))"
   ],
   "id": "2d301c5c3f15f061",
   "outputs": [
    {
     "data": {
      "text/plain": [
       "<IPython.core.display.Markdown object>"
      ],
      "text/markdown": "```bash\n"
     },
     "metadata": {},
     "output_type": "display_data"
    }
   ],
   "execution_count": 45
  }
 ],
 "metadata": {
  "kernelspec": {
   "display_name": "Python 3",
   "language": "python",
   "name": "python3"
  },
  "language_info": {
   "codemirror_mode": {
    "name": "ipython",
    "version": 2
   },
   "file_extension": ".py",
   "mimetype": "text/x-python",
   "name": "python",
   "nbconvert_exporter": "python",
   "pygments_lexer": "ipython2",
   "version": "2.7.6"
  }
 },
 "nbformat": 4,
 "nbformat_minor": 5
}
