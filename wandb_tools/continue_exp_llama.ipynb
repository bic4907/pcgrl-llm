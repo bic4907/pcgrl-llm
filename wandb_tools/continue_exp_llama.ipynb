{
 "cells": [
  {
   "metadata": {
    "ExecuteTime": {
     "end_time": "2025-01-05T09:00:33.037200Z",
     "start_time": "2025-01-05T09:00:33.029684Z"
    }
   },
   "cell_type": "code",
   "source": [
    "import numpy as np\n",
    "import wandb\n",
    "import pandas as pd\n",
    "from jaxlib.xla_client import tracebacks\n",
    "from tqdm import tqdm"
   ],
   "id": "d9f14382f5b686e0",
   "outputs": [],
   "execution_count": 181
  },
  {
   "metadata": {
    "ExecuteTime": {
     "end_time": "2025-01-05T09:00:33.051411Z",
     "start_time": "2025-01-05T09:00:33.043470Z"
    }
   },
   "cell_type": "code",
   "source": "api = wandb.Api(timeout=600)",
   "id": "e19d07b9b41e8296",
   "outputs": [],
   "execution_count": 182
  },
  {
   "metadata": {
    "ExecuteTime": {
     "end_time": "2025-01-05T09:00:34.294764Z",
     "start_time": "2025-01-05T09:00:33.067096Z"
    }
   },
   "cell_type": "code",
   "source": [
    "runs = api.runs(\"inchangbaek4907/scenario-llama\")\n",
    "len(runs)"
   ],
   "id": "b8f538313e8e36b",
   "outputs": [
    {
     "data": {
      "text/plain": [
       "190"
      ]
     },
     "execution_count": 183,
     "metadata": {},
     "output_type": "execute_result"
    }
   ],
   "execution_count": 183
  },
  {
   "metadata": {
    "ExecuteTime": {
     "end_time": "2025-01-05T09:00:35.957403Z",
     "start_time": "2025-01-05T09:00:34.302265Z"
    }
   },
   "cell_type": "code",
   "source": [
    "runs = list(runs)\n",
    "runs[:5]"
   ],
   "id": "a2be1e037e99e6de",
   "outputs": [
    {
     "data": {
      "text/plain": [
       "[<Run inchangbaek4907/scenario-llama/pe-cot_it-6_fit-hr_exp-llama33_t-sce_chr-1_1_s-1 (finished)>,\n",
       " <Run inchangbaek4907/scenario-llama/pe-got_it-6_fit-hr_exp-llama33_t-sce_chr-2_1_s-1 (finished)>,\n",
       " <Run inchangbaek4907/scenario-llama/pe-tot_it-6_fit-hr_exp-llama33_t-sce_chr-2_1_s-1 (finished)>,\n",
       " <Run inchangbaek4907/scenario-llama/pe-got_it-6_fit-hr_exp-llama33_t-sce_chr-1_1_s-1 (finished)>,\n",
       " <Run inchangbaek4907/scenario-llama/pe-tot_it-6_fit-hr_exp-llama33_t-sce_chr-1_1_s-1 (running)>]"
      ]
     },
     "execution_count": 184,
     "metadata": {},
     "output_type": "execute_result"
    }
   ],
   "execution_count": 184
  },
  {
   "metadata": {
    "ExecuteTime": {
     "end_time": "2025-01-05T09:00:35.967842Z",
     "start_time": "2025-01-05T09:00:35.965222Z"
    }
   },
   "cell_type": "code",
   "source": [
    "\n",
    "class RunInfo:\n",
    "    config: dict\n",
    "    name: str\n",
    "    run_object: wandb.apis.public.Run\n",
    "    \n",
    "    def __init__(self, config, name, run_object):\n",
    "        self.config = config\n",
    "        self.name = name\n",
    "        self.run_object = run_object\n",
    "\n",
    "    def __str__(self):\n",
    "        showing_config = dict()\n",
    "        showing_keys = ['gpt_model']\n",
    "        \n",
    "        for key in showing_keys:\n",
    "            if key in self.config:\n",
    "                showing_config[key] = self.config[key]\n",
    "        \n",
    "        return f\"RunInfo(\\n\\tname={self.name},\\n\\tconfig={showing_config}\\n)\""
   ],
   "id": "59e1d1a01fc2cff3",
   "outputs": [],
   "execution_count": 185
  },
  {
   "metadata": {
    "ExecuteTime": {
     "end_time": "2025-01-05T09:00:35.981663Z",
     "start_time": "2025-01-05T09:00:35.974812Z"
    }
   },
   "cell_type": "code",
   "source": [
    "run_infos = list()\n",
    "\n",
    "for run in tqdm(runs):\n",
    "        \n",
    "    try:\n",
    "        if run.state != 'running' and ('Evaluation/llm_iteration' not in run.summary.keys()):\n",
    "            run_infos.append(RunInfo(run.config, run.name, run))\n",
    "        elif run.state != 'running' and run.summary['Evaluation/llm_iteration'] < 6:\n",
    "            run_infos.append(RunInfo(run.config, run.name, run))\n",
    "    except Exception as e:\n",
    "        import traceback\n",
    "        traceback.print_exc()\n",
    "        print(run.id, e)\n",
    "        continue\n",
    "len(run_infos)"
   ],
   "id": "2a1641a8d4bce8b4",
   "outputs": [
    {
     "name": "stderr",
     "output_type": "stream",
     "text": [
      "100%|██████████| 190/190 [00:00<00:00, 107343.45it/s]\n"
     ]
    },
    {
     "data": {
      "text/plain": [
       "6"
      ]
     },
     "execution_count": 186,
     "metadata": {},
     "output_type": "execute_result"
    }
   ],
   "execution_count": 186
  },
  {
   "metadata": {
    "ExecuteTime": {
     "end_time": "2025-01-05T09:00:36.012188Z",
     "start_time": "2025-01-05T09:00:36.001729Z"
    }
   },
   "cell_type": "code",
   "source": [
    "configs = list()\n",
    "for run_info in tqdm(run_infos[:]):\n",
    "    configs.append(run_info.config)\n",
    "    \n",
    "df = pd.DataFrame(configs)\n",
    "df"
   ],
   "id": "43f6bf9e7b63f368",
   "outputs": [
    {
     "name": "stderr",
     "output_type": "stream",
     "text": [
      "100%|██████████| 6/6 [00:00<00:00, 35444.82it/s]\n"
     ]
    },
    {
     "data": {
      "text/plain": [
       "   randomize_start_pos feedback_input_type  random_agent NUM_UPDATES  \\\n",
       "0                False               array         False        None   \n",
       "1                False               array         False        None   \n",
       "2                False               array         False        None   \n",
       "3                False               array         False        None   \n",
       "4                False               array         False        None   \n",
       "5                False               array         False        None   \n",
       "\n",
       "   empty_start feedback_type  timestep_chunk_size  n_eps hidden_dims  \\\n",
       "0        False       default                   -1      2   [64, 256]   \n",
       "1        False       default                   -1      2   [64, 256]   \n",
       "2        False       default                   -1      2   [64, 256]   \n",
       "3        False       default                   -1      2   [64, 256]   \n",
       "4        False       default                   -1      2   [64, 256]   \n",
       "5        False       default                   -1      2   [64, 256]   \n",
       "\n",
       "  bypass_reward_path  ... NUM_MINIBATCHES  eval_seed  total_timesteps  \\\n",
       "0               None  ...               4          0         50000000   \n",
       "1               None  ...               4          0         50000000   \n",
       "2               None  ...               4          0         50000000   \n",
       "3               None  ...               4          0         50000000   \n",
       "4               None  ...               4          0         50000000   \n",
       "5               None  ...               4          0         50000000   \n",
       "\n",
       "   available_tiles n_generation_trials  max_board_scans  DEBUG  \\\n",
       "0               []                   5                3   True   \n",
       "1               []                   5                3   True   \n",
       "2               []                   5                3   True   \n",
       "3               []                   5                3   True   \n",
       "4               []                   5                3   True   \n",
       "5               []                   5                3   True   \n",
       "\n",
       "   n_codefix_trials eval_randomize_map_shape n_eval_maps  \n",
       "0                 5                    False           6  \n",
       "1                 5                    False           6  \n",
       "2                 5                    False           6  \n",
       "3                 5                    False           6  \n",
       "4                 5                    False           6  \n",
       "5                 5                    False           6  \n",
       "\n",
       "[6 rows x 93 columns]"
      ],
      "text/html": [
       "<div>\n",
       "<style scoped>\n",
       "    .dataframe tbody tr th:only-of-type {\n",
       "        vertical-align: middle;\n",
       "    }\n",
       "\n",
       "    .dataframe tbody tr th {\n",
       "        vertical-align: top;\n",
       "    }\n",
       "\n",
       "    .dataframe thead th {\n",
       "        text-align: right;\n",
       "    }\n",
       "</style>\n",
       "<table border=\"1\" class=\"dataframe\">\n",
       "  <thead>\n",
       "    <tr style=\"text-align: right;\">\n",
       "      <th></th>\n",
       "      <th>randomize_start_pos</th>\n",
       "      <th>feedback_input_type</th>\n",
       "      <th>random_agent</th>\n",
       "      <th>NUM_UPDATES</th>\n",
       "      <th>empty_start</th>\n",
       "      <th>feedback_type</th>\n",
       "      <th>timestep_chunk_size</th>\n",
       "      <th>n_eps</th>\n",
       "      <th>hidden_dims</th>\n",
       "      <th>bypass_reward_path</th>\n",
       "      <th>...</th>\n",
       "      <th>NUM_MINIBATCHES</th>\n",
       "      <th>eval_seed</th>\n",
       "      <th>total_timesteps</th>\n",
       "      <th>available_tiles</th>\n",
       "      <th>n_generation_trials</th>\n",
       "      <th>max_board_scans</th>\n",
       "      <th>DEBUG</th>\n",
       "      <th>n_codefix_trials</th>\n",
       "      <th>eval_randomize_map_shape</th>\n",
       "      <th>n_eval_maps</th>\n",
       "    </tr>\n",
       "  </thead>\n",
       "  <tbody>\n",
       "    <tr>\n",
       "      <th>0</th>\n",
       "      <td>False</td>\n",
       "      <td>array</td>\n",
       "      <td>False</td>\n",
       "      <td>None</td>\n",
       "      <td>False</td>\n",
       "      <td>default</td>\n",
       "      <td>-1</td>\n",
       "      <td>2</td>\n",
       "      <td>[64, 256]</td>\n",
       "      <td>None</td>\n",
       "      <td>...</td>\n",
       "      <td>4</td>\n",
       "      <td>0</td>\n",
       "      <td>50000000</td>\n",
       "      <td>[]</td>\n",
       "      <td>5</td>\n",
       "      <td>3</td>\n",
       "      <td>True</td>\n",
       "      <td>5</td>\n",
       "      <td>False</td>\n",
       "      <td>6</td>\n",
       "    </tr>\n",
       "    <tr>\n",
       "      <th>1</th>\n",
       "      <td>False</td>\n",
       "      <td>array</td>\n",
       "      <td>False</td>\n",
       "      <td>None</td>\n",
       "      <td>False</td>\n",
       "      <td>default</td>\n",
       "      <td>-1</td>\n",
       "      <td>2</td>\n",
       "      <td>[64, 256]</td>\n",
       "      <td>None</td>\n",
       "      <td>...</td>\n",
       "      <td>4</td>\n",
       "      <td>0</td>\n",
       "      <td>50000000</td>\n",
       "      <td>[]</td>\n",
       "      <td>5</td>\n",
       "      <td>3</td>\n",
       "      <td>True</td>\n",
       "      <td>5</td>\n",
       "      <td>False</td>\n",
       "      <td>6</td>\n",
       "    </tr>\n",
       "    <tr>\n",
       "      <th>2</th>\n",
       "      <td>False</td>\n",
       "      <td>array</td>\n",
       "      <td>False</td>\n",
       "      <td>None</td>\n",
       "      <td>False</td>\n",
       "      <td>default</td>\n",
       "      <td>-1</td>\n",
       "      <td>2</td>\n",
       "      <td>[64, 256]</td>\n",
       "      <td>None</td>\n",
       "      <td>...</td>\n",
       "      <td>4</td>\n",
       "      <td>0</td>\n",
       "      <td>50000000</td>\n",
       "      <td>[]</td>\n",
       "      <td>5</td>\n",
       "      <td>3</td>\n",
       "      <td>True</td>\n",
       "      <td>5</td>\n",
       "      <td>False</td>\n",
       "      <td>6</td>\n",
       "    </tr>\n",
       "    <tr>\n",
       "      <th>3</th>\n",
       "      <td>False</td>\n",
       "      <td>array</td>\n",
       "      <td>False</td>\n",
       "      <td>None</td>\n",
       "      <td>False</td>\n",
       "      <td>default</td>\n",
       "      <td>-1</td>\n",
       "      <td>2</td>\n",
       "      <td>[64, 256]</td>\n",
       "      <td>None</td>\n",
       "      <td>...</td>\n",
       "      <td>4</td>\n",
       "      <td>0</td>\n",
       "      <td>50000000</td>\n",
       "      <td>[]</td>\n",
       "      <td>5</td>\n",
       "      <td>3</td>\n",
       "      <td>True</td>\n",
       "      <td>5</td>\n",
       "      <td>False</td>\n",
       "      <td>6</td>\n",
       "    </tr>\n",
       "    <tr>\n",
       "      <th>4</th>\n",
       "      <td>False</td>\n",
       "      <td>array</td>\n",
       "      <td>False</td>\n",
       "      <td>None</td>\n",
       "      <td>False</td>\n",
       "      <td>default</td>\n",
       "      <td>-1</td>\n",
       "      <td>2</td>\n",
       "      <td>[64, 256]</td>\n",
       "      <td>None</td>\n",
       "      <td>...</td>\n",
       "      <td>4</td>\n",
       "      <td>0</td>\n",
       "      <td>50000000</td>\n",
       "      <td>[]</td>\n",
       "      <td>5</td>\n",
       "      <td>3</td>\n",
       "      <td>True</td>\n",
       "      <td>5</td>\n",
       "      <td>False</td>\n",
       "      <td>6</td>\n",
       "    </tr>\n",
       "    <tr>\n",
       "      <th>5</th>\n",
       "      <td>False</td>\n",
       "      <td>array</td>\n",
       "      <td>False</td>\n",
       "      <td>None</td>\n",
       "      <td>False</td>\n",
       "      <td>default</td>\n",
       "      <td>-1</td>\n",
       "      <td>2</td>\n",
       "      <td>[64, 256]</td>\n",
       "      <td>None</td>\n",
       "      <td>...</td>\n",
       "      <td>4</td>\n",
       "      <td>0</td>\n",
       "      <td>50000000</td>\n",
       "      <td>[]</td>\n",
       "      <td>5</td>\n",
       "      <td>3</td>\n",
       "      <td>True</td>\n",
       "      <td>5</td>\n",
       "      <td>False</td>\n",
       "      <td>6</td>\n",
       "    </tr>\n",
       "  </tbody>\n",
       "</table>\n",
       "<p>6 rows × 93 columns</p>\n",
       "</div>"
      ]
     },
     "execution_count": 187,
     "metadata": {},
     "output_type": "execute_result"
    }
   ],
   "execution_count": 187
  },
  {
   "metadata": {
    "ExecuteTime": {
     "end_time": "2025-01-05T09:00:36.060985Z",
     "start_time": "2025-01-05T09:00:36.053542Z"
    }
   },
   "cell_type": "code",
   "source": [
    "commands = list()\n",
    "ids = list()\n",
    "\n",
    "def get_config(exp_group, target_character):\n",
    "    return df[(df['exp_group'] == exp_group) & (df['target_character'] == target_character)].iloc[0]\n",
    "\n",
    "for index, row in df.iterrows():\n",
    "    \n",
    "    config = get_config(row['exp_group'], row['target_character'])\n",
    "    \n",
    "    seed = row['seed']\n",
    "    exp_group = row['exp_group']\n",
    "    target_character = row['target_character']\n",
    "    \n",
    "    total_iterations = config['total_iterations']\n",
    "    gpt_model = config['gpt_model']\n",
    "    exp_name = config['exp_name']\n",
    "    n_self_alignment = config['n_self_alignment']\n",
    "    evaluator = config['evaluator']\n",
    "    pe = config['pe']\n",
    "    \n",
    "    n_self_alignment = int(n_self_alignment)\n",
    "    \n",
    "\n",
    "    command = f\"bash sbatch_gpu.sh experiment.py n_envs=600 wandb_project=scenario-llama task=scenario overwrite=True pe={pe} exp_name={exp_name} gpt_model={gpt_model} total_iterations={total_iterations} seed={seed} evaluator={evaluator} target_character={target_character} n_self_alignment={n_self_alignment} n_codegen_trials=5 n_codefix_trials=5 wandb_resume=allow\"\n",
    "    commands.append(command)\n",
    "\n",
    "commands"
   ],
   "id": "7ea53cf93b66e8da",
   "outputs": [
    {
     "data": {
      "text/plain": [
       "['bash sbatch_gpu.sh experiment.py n_envs=600 wandb_project=scenario-llama task=scenario overwrite=True pe=tot exp_name=llama33 gpt_model=llama-33 total_iterations=6 seed=2 evaluator=hr target_character=2 n_self_alignment=0 n_codegen_trials=5 n_codefix_trials=5 wandb_resume=allow',\n",
       " 'bash sbatch_gpu.sh experiment.py n_envs=600 wandb_project=scenario-llama task=scenario overwrite=True pe=got exp_name=llama33 gpt_model=llama-33 total_iterations=6 seed=2 evaluator=hr target_character=2 n_self_alignment=0 n_codegen_trials=5 n_codefix_trials=5 wandb_resume=allow',\n",
       " 'bash sbatch_gpu.sh experiment.py n_envs=600 wandb_project=scenario-llama task=scenario overwrite=True pe=tot exp_name=llama32 gpt_model=llama-32 total_iterations=6 seed=2 evaluator=hr target_character=2 n_self_alignment=0 n_codegen_trials=5 n_codefix_trials=5 wandb_resume=allow',\n",
       " 'bash sbatch_gpu.sh experiment.py n_envs=600 wandb_project=scenario-llama task=scenario overwrite=True pe=got exp_name=llama32 gpt_model=llama-32 total_iterations=6 seed=1 evaluator=hr target_character=2 n_self_alignment=0 n_codegen_trials=5 n_codefix_trials=5 wandb_resume=allow',\n",
       " 'bash sbatch_gpu.sh experiment.py n_envs=600 wandb_project=scenario-llama task=scenario overwrite=True pe=cot exp_name=llama32sa gpt_model=llama-32 total_iterations=6 seed=6 evaluator=hr target_character=2 n_self_alignment=5 n_codegen_trials=5 n_codefix_trials=5 wandb_resume=allow',\n",
       " 'bash sbatch_gpu.sh experiment.py n_envs=600 wandb_project=scenario-llama task=scenario overwrite=True pe=got exp_name=llama32sa gpt_model=llama-32 total_iterations=6 seed=5 evaluator=hr target_character=1 n_self_alignment=5 n_codegen_trials=5 n_codefix_trials=5 wandb_resume=allow']"
      ]
     },
     "execution_count": 188,
     "metadata": {},
     "output_type": "execute_result"
    }
   ],
   "execution_count": 188
  },
  {
   "metadata": {
    "ExecuteTime": {
     "end_time": "2025-01-05T09:00:36.132972Z",
     "start_time": "2025-01-05T09:00:36.130226Z"
    }
   },
   "cell_type": "code",
   "source": "len(commands)",
   "id": "9edc4df1500179a0",
   "outputs": [
    {
     "data": {
      "text/plain": [
       "6"
      ]
     },
     "execution_count": 189,
     "metadata": {},
     "output_type": "execute_result"
    }
   ],
   "execution_count": 189
  },
  {
   "metadata": {
    "ExecuteTime": {
     "end_time": "2025-01-05T09:00:36.237412Z",
     "start_time": "2025-01-05T09:00:36.233874Z"
    }
   },
   "cell_type": "code",
   "source": [
    "commands_block = \" \\n\".join(commands)\n",
    "from IPython.display import display, Markdown\n",
    "display(Markdown(\"```bash\\n\" + commands_block + \"\"))"
   ],
   "id": "17ef5fa3640ba48",
   "outputs": [
    {
     "data": {
      "text/plain": [
       "<IPython.core.display.Markdown object>"
      ],
      "text/markdown": "```bash\nbash sbatch_gpu.sh experiment.py n_envs=600 wandb_project=scenario-llama task=scenario overwrite=True pe=tot exp_name=llama33 gpt_model=llama-33 total_iterations=6 seed=2 evaluator=hr target_character=2 n_self_alignment=0 n_codegen_trials=5 n_codefix_trials=5 wandb_resume=allow \nbash sbatch_gpu.sh experiment.py n_envs=600 wandb_project=scenario-llama task=scenario overwrite=True pe=got exp_name=llama33 gpt_model=llama-33 total_iterations=6 seed=2 evaluator=hr target_character=2 n_self_alignment=0 n_codegen_trials=5 n_codefix_trials=5 wandb_resume=allow \nbash sbatch_gpu.sh experiment.py n_envs=600 wandb_project=scenario-llama task=scenario overwrite=True pe=tot exp_name=llama32 gpt_model=llama-32 total_iterations=6 seed=2 evaluator=hr target_character=2 n_self_alignment=0 n_codegen_trials=5 n_codefix_trials=5 wandb_resume=allow \nbash sbatch_gpu.sh experiment.py n_envs=600 wandb_project=scenario-llama task=scenario overwrite=True pe=got exp_name=llama32 gpt_model=llama-32 total_iterations=6 seed=1 evaluator=hr target_character=2 n_self_alignment=0 n_codegen_trials=5 n_codefix_trials=5 wandb_resume=allow \nbash sbatch_gpu.sh experiment.py n_envs=600 wandb_project=scenario-llama task=scenario overwrite=True pe=cot exp_name=llama32sa gpt_model=llama-32 total_iterations=6 seed=6 evaluator=hr target_character=2 n_self_alignment=5 n_codegen_trials=5 n_codefix_trials=5 wandb_resume=allow \nbash sbatch_gpu.sh experiment.py n_envs=600 wandb_project=scenario-llama task=scenario overwrite=True pe=got exp_name=llama32sa gpt_model=llama-32 total_iterations=6 seed=5 evaluator=hr target_character=1 n_self_alignment=5 n_codegen_trials=5 n_codefix_trials=5 wandb_resume=allow"
     },
     "metadata": {},
     "output_type": "display_data"
    }
   ],
   "execution_count": 190
  },
  {
   "metadata": {
    "ExecuteTime": {
     "end_time": "2025-01-05T09:00:36.300189Z",
     "start_time": "2025-01-05T09:00:36.297725Z"
    }
   },
   "cell_type": "code",
   "source": "ids",
   "id": "ff4d31aa84d1e836",
   "outputs": [
    {
     "data": {
      "text/plain": [
       "[]"
      ]
     },
     "execution_count": 191,
     "metadata": {},
     "output_type": "execute_result"
    }
   ],
   "execution_count": 191
  }
 ],
 "metadata": {
  "kernelspec": {
   "display_name": "Python 3",
   "language": "python",
   "name": "python3"
  },
  "language_info": {
   "codemirror_mode": {
    "name": "ipython",
    "version": 2
   },
   "file_extension": ".py",
   "mimetype": "text/x-python",
   "name": "python",
   "nbconvert_exporter": "python",
   "pygments_lexer": "ipython2",
   "version": "2.7.6"
  }
 },
 "nbformat": 4,
 "nbformat_minor": 5
}
